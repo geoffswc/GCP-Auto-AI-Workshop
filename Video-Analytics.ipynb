{
 "cells": [
  {
   "cell_type": "code",
   "execution_count": null,
   "id": "432ec7b6",
   "metadata": {},
   "outputs": [],
   "source": [
    "!pip install --upgrade google-cloud-videointelligence"
   ]
  },
  {
   "cell_type": "code",
   "execution_count": null,
   "id": "162dfdae",
   "metadata": {},
   "outputs": [],
   "source": [
    "\"\"\"Transcribe speech from a video stored on GCS.\"\"\"\n",
    "from google.cloud import videointelligence\n",
    "import yaml\n",
    "import os"
   ]
  },
  {
   "cell_type": "code",
   "execution_count": null,
   "id": "932151d6",
   "metadata": {},
   "outputs": [],
   "source": [
    "with open('properties.yaml') as file:\n",
    "    properties = yaml.full_load(file)\n",
    "\n",
    "os.environ[\"GOOGLE_APPLICATION_CREDENTIALS\"] = properties['google_application_credentials']"
   ]
  },
  {
   "cell_type": "code",
   "execution_count": null,
   "id": "fcda0e07",
   "metadata": {},
   "outputs": [],
   "source": [
    "video_client = videointelligence.VideoIntelligenceServiceClient()\n",
    "features = [videointelligence.Feature.SPEECH_TRANSCRIPTION]"
   ]
  },
  {
   "cell_type": "code",
   "execution_count": null,
   "id": "3e2b19cf",
   "metadata": {},
   "outputs": [],
   "source": [
    "config = videointelligence.SpeechTranscriptionConfig(\n",
    "    language_code=\"en-US\", enable_automatic_punctuation=True\n",
    ")"
   ]
  },
  {
   "cell_type": "code",
   "execution_count": null,
   "id": "08427f6c",
   "metadata": {},
   "outputs": [],
   "source": [
    "path = 'gs://idl-dsi-bucket/video_files/tobacco_jpv08h00_2.mp4'\n",
    "video_context = videointelligence.VideoContext(speech_transcription_config=config)\n",
    "\n",
    "operation = video_client.annotate_video(\n",
    "    request={\n",
    "        \"features\": features,\n",
    "        \"input_uri\": path,\n",
    "        \"video_context\": video_context,\n",
    "    }\n",
    ")\n",
    "\n",
    "video_context = videointelligence.VideoContext(speech_transcription_config=config)\n",
    "\n",
    "\n",
    "operation = video_client.annotate_video(\n",
    "    request={\n",
    "        \"features\": features,\n",
    "        \"input_uri\": path,\n",
    "        \"video_context\": video_context,\n",
    "    }\n",
    ")\n",
    "\n",
    "print(\"\\nProcessing video for speech transcription.\")\n",
    "\n",
    "result = operation.result(timeout=600)\n",
    "\n",
    "# There is only one annotation_result since only\n",
    "# one video is processed.\n",
    "annotation_results = result.annotation_results[0]\n",
    "for speech_transcription in annotation_results.speech_transcriptions:\n",
    "    # The number of alternatives for each transcription is limited by\n",
    "    # SpeechTranscriptionConfig.max_alternatives.\n",
    "    # Each alternative is a different possible transcription\n",
    "    # and has its own confidence score.\n",
    "    for alternative in speech_transcription.alternatives:\n",
    "        print(\"Alternative level information:\")\n",
    "\n",
    "        print(\"Transcript: {}\".format(alternative.transcript))\n",
    "        print(\"Confidence: {}\\n\".format(alternative.confidence))\n",
    "\n",
    "        print(\"Word level information:\")\n",
    "        for word_info in alternative.words:\n",
    "            word = word_info.word\n",
    "            start_time = word_info.start_time\n",
    "            end_time = word_info.end_time\n",
    "            print(\n",
    "                \"\\t{}s - {}s: {}\".format(\n",
    "                    start_time.seconds + start_time.microseconds * 1e-6,\n",
    "                    end_time.seconds + end_time.microseconds * 1e-6,\n",
    "                    word,\n",
    "                )\n",
    "            )"
   ]
  },
  {
   "cell_type": "code",
   "execution_count": null,
   "id": "959c45db",
   "metadata": {},
   "outputs": [],
   "source": []
  },
  {
   "cell_type": "code",
   "execution_count": null,
   "id": "fca3158f",
   "metadata": {},
   "outputs": [],
   "source": []
  }
 ],
 "metadata": {
  "kernelspec": {
   "display_name": "Python 3 (ipykernel)",
   "language": "python",
   "name": "python3"
  },
  "language_info": {
   "codemirror_mode": {
    "name": "ipython",
    "version": 3
   },
   "file_extension": ".py",
   "mimetype": "text/x-python",
   "name": "python",
   "nbconvert_exporter": "python",
   "pygments_lexer": "ipython3",
   "version": "3.9.7"
  }
 },
 "nbformat": 4,
 "nbformat_minor": 5
}
