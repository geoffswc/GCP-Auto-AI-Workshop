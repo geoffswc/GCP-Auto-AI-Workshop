{
 "cells": [
  {
   "cell_type": "code",
   "execution_count": 1,
   "metadata": {},
   "outputs": [],
   "source": [
    "import urllib.request\n",
    "import os\n",
    "import glob\n",
    "from google.cloud import storage\n",
    "from google.cloud import speech\n",
    "from google.protobuf.json_format import MessageToDict\n",
    "import yaml\n",
    "import json\n",
    "import time"
   ]
  },
  {
   "cell_type": "code",
   "execution_count": 2,
   "metadata": {},
   "outputs": [],
   "source": [
    "with open('properties.yaml') as file:\n",
    "    properties = yaml.full_load(file)\n",
    "\n",
    "os.environ[\"GOOGLE_APPLICATION_CREDENTIALS\"] = properties['google_application_credentials']"
   ]
  },
  {
   "cell_type": "code",
   "execution_count": 3,
   "metadata": {},
   "outputs": [],
   "source": [
    "bucket_name = properties['bucket_name']\n",
    "storage_client = storage.Client()\n",
    "bucket = storage_client.bucket(bucket_name)"
   ]
  },
  {
   "cell_type": "code",
   "execution_count": 4,
   "metadata": {},
   "outputs": [],
   "source": [
    "url = \"https://ia600702.us.archive.org/22/items/tobacco_dwu03f00/170500121_512kb.mp4\""
   ]
  },
  {
   "cell_type": "code",
   "execution_count": 5,
   "metadata": {},
   "outputs": [],
   "source": [
    "source_file_name = url.split('/')[-1]\n",
    "source_file_stem = source_file_name.split('.')[0]"
   ]
  },
  {
   "cell_type": "code",
   "execution_count": 6,
   "metadata": {},
   "outputs": [
    {
     "name": "stdout",
     "output_type": "stream",
     "text": [
      "downloading file\n",
      "run time: 3.4007630348205566\n"
     ]
    }
   ],
   "source": [
    "start_time = time.time()    \n",
    "print(\"downloading file\")\n",
    "urllib.request.urlretrieve(url, 'video_files/' + source_file_name)\n",
    "print(\"run time:\", time.time() - start_time)\n",
    "start_time = time.time()\n",
    "blob = bucket.blob(\"video_files/\" + source_file_name)\n",
    "blob.upload_from_filename('video_files/' + source_file_name)"
   ]
  },
  {
   "cell_type": "code",
   "execution_count": 7,
   "metadata": {},
   "outputs": [
    {
     "name": "stdout",
     "output_type": "stream",
     "text": [
      "converting to flac\n",
      "run time: 7.3047990798950195\n"
     ]
    }
   ],
   "source": [
    "# convert locally to flac format\n",
    "print(\"converting to flac\")\n",
    "os.system('ffmpeg -v quiet -i video_files/' + source_file_name  + ' -c:a flac flac_files/' + source_file_stem + '.flac')\n",
    "print(\"run time:\", time.time() - start_time)\n",
    "start_time = time.time()    "
   ]
  },
  {
   "cell_type": "code",
   "execution_count": 8,
   "metadata": {},
   "outputs": [
    {
     "name": "stdout",
     "output_type": "stream",
     "text": [
      "uploading flac file to cloud\n"
     ]
    }
   ],
   "source": [
    "print(\"uploading flac file to cloud\")\n",
    "blob = bucket.blob(source_file_name)\n",
    "blob = bucket.blob(\"flac_files/\" + source_file_stem + '.flac')"
   ]
  },
  {
   "cell_type": "code",
   "execution_count": 9,
   "metadata": {},
   "outputs": [
    {
     "name": "stdout",
     "output_type": "stream",
     "text": [
      "run time: 0.42754626274108887\n"
     ]
    }
   ],
   "source": [
    "# upload\n",
    "blob.upload_from_filename('flac_files/' + source_file_stem + '.flac')\n",
    "print(\"run time:\", time.time() - start_time)\n",
    "start_time = time.time()\n",
    "# extract transcript"
   ]
  },
  {
   "cell_type": "code",
   "execution_count": 10,
   "metadata": {},
   "outputs": [
    {
     "name": "stdout",
     "output_type": "stream",
     "text": [
      "extracting transcript\n",
      "run time: 17.821135997772217\n"
     ]
    }
   ],
   "source": [
    "print(\"extracting transcript\")\n",
    "client = speech.SpeechClient()\n",
    "\n",
    "gcs_uri = \"gs://\" + bucket_name  + \"/flac_files/\" + source_file_stem + \".flac\"\n",
    "#https://cloud.google.com/speech-to-text/docs/encoding    \n",
    "#You are not required to specify the encoding and sample rate for WAV or FLAC files. \n",
    "#If omitted, Speech-to-Text automatically determines the encoding and sample rate for \n",
    "#WAV or FLAC files based on the file header. \n",
    "#If you specify an encoding or sample rate value that does not match the value in the \n",
    "#file header, then Speech-to-Text returns an error.    \n",
    "# model='video' is not required, costs more, but might lead to better transcription\n",
    "\n",
    "audio = speech.RecognitionAudio(uri=gcs_uri)\n",
    "\n",
    "config = speech.RecognitionConfig(\n",
    "    #encoding=speech.RecognitionConfig.AudioEncoding.FLAC,\n",
    "    #sample_rate_hertz=16000,\n",
    "    audio_channel_count=2,\n",
    "    language_code=\"en-US\",\n",
    "    use_enhanced=True,\n",
    "    model='video',\n",
    "    enable_word_time_offsets=True\n",
    ")\n",
    "\n",
    "operation = client.long_running_recognize(config=config, audio=audio)\n",
    "response = operation.result()\n",
    "print(\"run time:\", time.time() - start_time)\n",
    "start_time = time.time()"
   ]
  },
  {
   "cell_type": "code",
   "execution_count": 11,
   "metadata": {},
   "outputs": [
    {
     "name": "stdout",
     "output_type": "stream",
     "text": [
      "{'results': [{'alternatives': [{'transcript': \"meet the rule breaker the extra long menthol cigarettes that surprised everybody including us in a taste test get beat the leading mental brand and that's unheard of smokers almost always prefer their own brand but Menthol smokers preferred Capri more than two to one over their own Brands the rule breaker Capri Menthol but with a soft fresh\", 'confidence': 0.9000328, 'words': [{'startTime': '3.400s', 'endTime': '3.900s', 'word': 'meet'}, {'startTime': '3.900s', 'endTime': '4.100s', 'word': 'the'}, {'startTime': '4.100s', 'endTime': '4.400s', 'word': 'rule'}, {'startTime': '4.400s', 'endTime': '5s', 'word': 'breaker'}, {'startTime': '5.700s', 'endTime': '5.800s', 'word': 'the'}, {'startTime': '5.800s', 'endTime': '6.100s', 'word': 'extra'}, {'startTime': '6.100s', 'endTime': '6.300s', 'word': 'long'}, {'startTime': '6.300s', 'endTime': '6.800s', 'word': 'menthol'}, {'startTime': '6.800s', 'endTime': '7.200s', 'word': 'cigarettes'}, {'startTime': '7.200s', 'endTime': '7.500s', 'word': 'that'}, {'startTime': '7.500s', 'endTime': '8.200s', 'word': 'surprised'}, {'startTime': '8.200s', 'endTime': '8.900s', 'word': 'everybody'}, {'startTime': '9.100s', 'endTime': '9.700s', 'word': 'including'}, {'startTime': '9.700s', 'endTime': '10s', 'word': 'us'}, {'startTime': '10.500s', 'endTime': '10.700s', 'word': 'in'}, {'startTime': '10.700s', 'endTime': '10.700s', 'word': 'a'}, {'startTime': '10.700s', 'endTime': '11.100s', 'word': 'taste'}, {'startTime': '11.100s', 'endTime': '11.400s', 'word': 'test'}, {'startTime': '11.400s', 'endTime': '11.700s', 'word': 'get'}, {'startTime': '11.700s', 'endTime': '12s', 'word': 'beat'}, {'startTime': '12s', 'endTime': '12.200s', 'word': 'the'}, {'startTime': '12.200s', 'endTime': '12.500s', 'word': 'leading'}, {'startTime': '12.500s', 'endTime': '12.900s', 'word': 'mental'}, {'startTime': '12.900s', 'endTime': '13.600s', 'word': 'brand'}, {'startTime': '14s', 'endTime': '14.100s', 'word': 'and'}, {'startTime': '14.100s', 'endTime': '14.400s', 'word': \"that's\"}, {'startTime': '14.400s', 'endTime': '14.800s', 'word': 'unheard'}, {'startTime': '14.800s', 'endTime': '15s', 'word': 'of'}, {'startTime': '15.400s', 'endTime': '16s', 'word': 'smokers'}, {'startTime': '16s', 'endTime': '16.500s', 'word': 'almost'}, {'startTime': '16.500s', 'endTime': '17s', 'word': 'always'}, {'startTime': '17s', 'endTime': '17.300s', 'word': 'prefer'}, {'startTime': '17.300s', 'endTime': '17.500s', 'word': 'their'}, {'startTime': '17.500s', 'endTime': '17.800s', 'word': 'own'}, {'startTime': '17.800s', 'endTime': '18.400s', 'word': 'brand'}, {'startTime': '19s', 'endTime': '19.200s', 'word': 'but'}, {'startTime': '19.200s', 'endTime': '19.600s', 'word': 'Menthol'}, {'startTime': '19.600s', 'endTime': '20s', 'word': 'smokers'}, {'startTime': '20s', 'endTime': '20.600s', 'word': 'preferred'}, {'startTime': '20.600s', 'endTime': '21.200s', 'word': 'Capri'}, {'startTime': '21.200s', 'endTime': '21.400s', 'word': 'more'}, {'startTime': '21.400s', 'endTime': '21.600s', 'word': 'than'}, {'startTime': '21.600s', 'endTime': '21.800s', 'word': 'two'}, {'startTime': '21.800s', 'endTime': '22s', 'word': 'to'}, {'startTime': '22s', 'endTime': '22.300s', 'word': 'one'}, {'startTime': '22.400s', 'endTime': '22.700s', 'word': 'over'}, {'startTime': '22.700s', 'endTime': '22.900s', 'word': 'their'}, {'startTime': '22.900s', 'endTime': '23.100s', 'word': 'own'}, {'startTime': '23.100s', 'endTime': '23.900s', 'word': 'Brands'}, {'startTime': '24.400s', 'endTime': '24.600s', 'word': 'the'}, {'startTime': '24.600s', 'endTime': '24.800s', 'word': 'rule'}, {'startTime': '24.800s', 'endTime': '25.400s', 'word': 'breaker'}, {'startTime': '25.800s', 'endTime': '26.500s', 'word': 'Capri'}, {'startTime': '27.100s', 'endTime': '27.800s', 'word': 'Menthol'}, {'startTime': '28.200s', 'endTime': '28.400s', 'word': 'but'}, {'startTime': '28.400s', 'endTime': '28.500s', 'word': 'with'}, {'startTime': '28.500s', 'endTime': '28.600s', 'word': 'a'}, {'startTime': '28.600s', 'endTime': '29.100s', 'word': 'soft'}, {'startTime': '29.500s', 'endTime': '29.800s', 'word': 'fresh'}]}]}, {'alternatives': [{'transcript': ' tape', 'confidence': 0.65006036, 'words': [{'startTime': '30s', 'endTime': '30.400s', 'word': 'tape'}]}]}, {'alternatives': [{}]}]}\n"
     ]
    }
   ],
   "source": [
    "result_dict = MessageToDict(response.__class__.pb(response))\n",
    "print(result_dict)"
   ]
  },
  {
   "cell_type": "code",
   "execution_count": 12,
   "metadata": {},
   "outputs": [],
   "source": [
    "bucket.blob(\"video_files/\" + source_file_name).delete()\n",
    "bucket.blob(\"flac_files/\" + source_file_stem + '.flac').delete()"
   ]
  },
  {
   "cell_type": "code",
   "execution_count": 13,
   "metadata": {},
   "outputs": [],
   "source": [
    "os.remove(\"video_files/\" + source_file_name)\n",
    "os.remove(\"flac_files/\" + source_file_stem + '.flac')"
   ]
  }
 ],
 "metadata": {
  "kernelspec": {
   "display_name": "Python 3",
   "language": "python",
   "name": "python3"
  },
  "language_info": {
   "codemirror_mode": {
    "name": "ipython",
    "version": 3
   },
   "file_extension": ".py",
   "mimetype": "text/x-python",
   "name": "python",
   "nbconvert_exporter": "python",
   "pygments_lexer": "ipython3",
   "version": "3.6.8"
  }
 },
 "nbformat": 4,
 "nbformat_minor": 2
}
