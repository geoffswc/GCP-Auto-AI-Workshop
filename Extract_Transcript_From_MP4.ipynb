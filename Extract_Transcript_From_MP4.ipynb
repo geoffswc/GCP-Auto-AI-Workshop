{
 "cells": [
  {
   "cell_type": "code",
   "execution_count": null,
   "metadata": {},
   "outputs": [],
   "source": [
    "# note - you will need to be able to run the UNIX ffmpeg utility to run this notebook"
   ]
  },
  {
   "cell_type": "code",
   "execution_count": null,
   "metadata": {},
   "outputs": [],
   "source": [
    "#pip install google-cloud-storage\n",
    "#!pip install google-cloud-language\n",
    "#!pip install google-cloud-speech"
   ]
  },
  {
   "cell_type": "code",
   "execution_count": null,
   "metadata": {},
   "outputs": [],
   "source": [
    "import urllib.request\n",
    "import os\n",
    "import glob\n",
    "from google.cloud import storage\n",
    "from google.cloud import speech\n",
    "from google.protobuf.json_format import MessageToDict\n",
    "import yaml\n",
    "import json\n",
    "import time"
   ]
  },
  {
   "cell_type": "code",
   "execution_count": null,
   "metadata": {},
   "outputs": [],
   "source": [
    "with open('properties.yaml') as file:\n",
    "    properties = yaml.full_load(file)\n",
    "\n",
    "os.environ[\"GOOGLE_APPLICATION_CREDENTIALS\"] = properties['google_application_credentials']"
   ]
  },
  {
   "cell_type": "code",
   "execution_count": null,
   "metadata": {},
   "outputs": [],
   "source": [
    "bucket_name = properties['bucket_name']\n",
    "storage_client = storage.Client()\n",
    "bucket = storage_client.bucket(bucket_name)"
   ]
  },
  {
   "cell_type": "code",
   "execution_count": null,
   "metadata": {},
   "outputs": [],
   "source": [
    "url = \"https://ia600702.us.archive.org/22/items/tobacco_dwu03f00/170500121_512kb.mp4\""
   ]
  },
  {
   "cell_type": "code",
   "execution_count": null,
   "metadata": {},
   "outputs": [],
   "source": [
    "source_file_name = url.split('/')[-1]\n",
    "source_file_stem = source_file_name.split('.')[0]"
   ]
  },
  {
   "cell_type": "code",
   "execution_count": null,
   "metadata": {},
   "outputs": [],
   "source": [
    "start_time = time.time()    \n",
    "print(\"downloading file\")\n",
    "urllib.request.urlretrieve(url, 'video_files/' + source_file_name)\n",
    "print(\"run time:\", time.time() - start_time)"
   ]
  },
  {
   "cell_type": "code",
   "execution_count": null,
   "metadata": {},
   "outputs": [],
   "source": [
    "start_time = time.time()\n",
    "blob = bucket.blob(\"video_files/\" + source_file_name)\n",
    "blob.upload_from_filename('video_files/' + source_file_name)"
   ]
  },
  {
   "cell_type": "code",
   "execution_count": null,
   "metadata": {},
   "outputs": [],
   "source": [
    "# convert locally to flac format\n",
    "print(\"converting to flac\")\n",
    "os.system('ffmpeg -v quiet -i video_files/' + source_file_name  + ' -c:a flac flac_files/' + source_file_stem + '.flac')\n",
    "print(\"run time:\", time.time() - start_time)\n",
    "start_time = time.time()    "
   ]
  },
  {
   "cell_type": "code",
   "execution_count": null,
   "metadata": {},
   "outputs": [],
   "source": [
    "print(\"uploading flac file to cloud\")\n",
    "blob = bucket.blob(source_file_name)\n",
    "blob = bucket.blob(\"flac_files/\" + source_file_stem + '.flac')"
   ]
  },
  {
   "cell_type": "code",
   "execution_count": null,
   "metadata": {},
   "outputs": [],
   "source": [
    "# upload\n",
    "blob.upload_from_filename('flac_files/' + source_file_stem + '.flac')\n",
    "print(\"run time:\", time.time() - start_time)\n",
    "start_time = time.time()\n",
    "# extract transcript"
   ]
  },
  {
   "cell_type": "code",
   "execution_count": null,
   "metadata": {},
   "outputs": [],
   "source": [
    "print(\"extracting transcript\")\n",
    "client = speech.SpeechClient()\n",
    "\n",
    "gcs_uri = \"gs://\" + bucket_name  + \"/flac_files/\" + source_file_stem + \".flac\"\n",
    "#https://cloud.google.com/speech-to-text/docs/encoding    \n",
    "#You are not required to specify the encoding and sample rate for WAV or FLAC files. \n",
    "#If omitted, Speech-to-Text automatically determines the encoding and sample rate for \n",
    "#WAV or FLAC files based on the file header. \n",
    "#If you specify an encoding or sample rate value that does not match the value in the \n",
    "#file header, then Speech-to-Text returns an error.    \n",
    "# model='video' is not required, costs more, but might lead to better transcription\n",
    "\n",
    "audio = speech.RecognitionAudio(uri=gcs_uri)\n",
    "\n",
    "config = speech.RecognitionConfig(\n",
    "    #encoding=speech.RecognitionConfig.AudioEncoding.FLAC,\n",
    "    #sample_rate_hertz=16000,\n",
    "    audio_channel_count=2,\n",
    "    language_code=\"en-US\",\n",
    "    use_enhanced=True,\n",
    "    model='video',\n",
    "    enable_word_time_offsets=True\n",
    ")\n",
    "\n",
    "operation = client.long_running_recognize(config=config, audio=audio)\n",
    "response = operation.result()\n",
    "print(\"run time:\", time.time() - start_time)\n",
    "start_time = time.time()"
   ]
  },
  {
   "cell_type": "code",
   "execution_count": null,
   "metadata": {},
   "outputs": [],
   "source": [
    "result_dict = MessageToDict(response.__class__.pb(response))\n",
    "print(result_dict)"
   ]
  },
  {
   "cell_type": "code",
   "execution_count": null,
   "metadata": {},
   "outputs": [],
   "source": [
    "print(result_dict['results'][0]['alternatives'][0]['transcript'])"
   ]
  },
  {
   "cell_type": "code",
   "execution_count": null,
   "metadata": {},
   "outputs": [],
   "source": [
    "bucket.blob(\"video_files/\" + source_file_name).delete()\n",
    "bucket.blob(\"flac_files/\" + source_file_stem + '.flac').delete()"
   ]
  },
  {
   "cell_type": "code",
   "execution_count": null,
   "metadata": {},
   "outputs": [],
   "source": [
    "os.remove(\"video_files/\" + source_file_name)\n",
    "os.remove(\"flac_files/\" + source_file_stem + '.flac')"
   ]
  },
  {
   "cell_type": "code",
   "execution_count": null,
   "metadata": {},
   "outputs": [],
   "source": []
  }
 ],
 "metadata": {
  "kernelspec": {
   "display_name": "Python 3 (ipykernel)",
   "language": "python",
   "name": "python3"
  },
  "language_info": {
   "codemirror_mode": {
    "name": "ipython",
    "version": 3
   },
   "file_extension": ".py",
   "mimetype": "text/x-python",
   "name": "python",
   "nbconvert_exporter": "python",
   "pygments_lexer": "ipython3",
   "version": "3.9.7"
  }
 },
 "nbformat": 4,
 "nbformat_minor": 2
}
