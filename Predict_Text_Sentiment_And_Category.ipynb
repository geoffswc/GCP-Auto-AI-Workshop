{
 "cells": [
  {
   "cell_type": "code",
   "execution_count": null,
   "metadata": {},
   "outputs": [],
   "source": [
    "#!pip install google-cloud-language"
   ]
  },
  {
   "cell_type": "code",
   "execution_count": null,
   "metadata": {},
   "outputs": [],
   "source": [
    "from google.cloud import language_v1\n",
    "import io\n",
    "import yaml\n",
    "import os\n",
    "from google.protobuf.json_format import MessageToJson"
   ]
  },
  {
   "cell_type": "code",
   "execution_count": null,
   "metadata": {},
   "outputs": [],
   "source": [
    "with open('properties.yaml') as file:\n",
    "    properties = yaml.full_load(file)\n",
    "\n",
    "os.environ[\"GOOGLE_APPLICATION_CREDENTIALS\"] = properties['google_application_credentials']"
   ]
  },
  {
   "cell_type": "code",
   "execution_count": null,
   "metadata": {},
   "outputs": [],
   "source": [
    "# from the wikipedia entry on covid\n",
    "text_content = \"\"\"\n",
    "Symptoms of COVID‑19 are variable, but often include fever,cough, headache,[10] fatigue, breathing difficulties, \n",
    "loss of smell, and loss of taste.[11][12][13] Symptoms may begin one to fourteen days after exposure to the virus.\n",
    "At least a third of people who are infected do not develop noticeable symptoms.[14] Of those people who develop \n",
    "symptoms noticeable enough to be classed as patients, most (81%) develop mild to moderate symptoms (up to mild \n",
    "pneumonia), while 14% develop severe symptoms (dyspnea, hypoxia, or more than 50% lung involvement on imaging), \n",
    "and 5% suffer critical symptoms (respiratory failure, shock, or multiorgan dysfunction).[15] Older people are at \n",
    "a higher risk of developing severe symptoms. Some people continue to experience a range of effects (long COVID) \n",
    "for months after recovery, and damage to organs has been observed.[16] Multi-year studies are underway to further \n",
    "investigate the long-term effects of the disease.\n",
    "\"\"\""
   ]
  },
  {
   "cell_type": "code",
   "execution_count": null,
   "metadata": {},
   "outputs": [],
   "source": [
    "type_ = language_v1.Document.Type.PLAIN_TEXT"
   ]
  },
  {
   "cell_type": "code",
   "execution_count": null,
   "metadata": {},
   "outputs": [],
   "source": [
    "language = \"en\"\n",
    "document = {\"content\": text_content, \"type_\": type_, \"language\": language}"
   ]
  },
  {
   "cell_type": "code",
   "execution_count": null,
   "metadata": {},
   "outputs": [],
   "source": [
    "client = language_v1.LanguageServiceClient()"
   ]
  },
  {
   "cell_type": "code",
   "execution_count": null,
   "metadata": {},
   "outputs": [],
   "source": [
    "classify_response = client.classify_text(request = {'document': document})"
   ]
  },
  {
   "cell_type": "code",
   "execution_count": null,
   "metadata": {},
   "outputs": [],
   "source": [
    "classify_response.categories"
   ]
  },
  {
   "cell_type": "code",
   "execution_count": null,
   "metadata": {},
   "outputs": [],
   "source": [
    "sentiment_response = client.analyze_sentiment(request = {'document': document})"
   ]
  },
  {
   "cell_type": "code",
   "execution_count": null,
   "metadata": {},
   "outputs": [],
   "source": [
    "print(sentiment_response.document_sentiment.score)\n",
    "print(sentiment_response.document_sentiment.magnitude)"
   ]
  },
  {
   "cell_type": "code",
   "execution_count": null,
   "metadata": {},
   "outputs": [],
   "source": []
  }
 ],
 "metadata": {
  "kernelspec": {
   "display_name": "Python 3",
   "language": "python",
   "name": "python3"
  },
  "language_info": {
   "codemirror_mode": {
    "name": "ipython",
    "version": 3
   },
   "file_extension": ".py",
   "mimetype": "text/x-python",
   "name": "python",
   "nbconvert_exporter": "python",
   "pygments_lexer": "ipython3",
   "version": "3.6.8"
  }
 },
 "nbformat": 4,
 "nbformat_minor": 2
}
