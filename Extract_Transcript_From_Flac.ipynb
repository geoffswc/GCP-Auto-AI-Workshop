{
 "cells": [
  {
   "cell_type": "code",
   "execution_count": null,
   "metadata": {},
   "outputs": [],
   "source": [
    "import urllib.request\n",
    "import os\n",
    "import glob\n",
    "from google.cloud import storage\n",
    "from google.cloud import speech\n",
    "from google.protobuf.json_format import MessageToDict\n",
    "import yaml\n",
    "import json\n",
    "import time"
   ]
  },
  {
   "cell_type": "code",
   "execution_count": null,
   "metadata": {},
   "outputs": [],
   "source": [
    "with open('properties.yaml') as file:\n",
    "    properties = yaml.full_load(file)\n",
    "\n",
    "os.environ[\"GOOGLE_APPLICATION_CREDENTIALS\"] = properties['google_application_credentials']"
   ]
  },
  {
   "cell_type": "code",
   "execution_count": null,
   "metadata": {},
   "outputs": [],
   "source": [
    "# cloud storage params\n",
    "bucket_name = properties['bucket_name']\n",
    "storage_client = storage.Client()\n",
    "bucket = storage_client.bucket(bucket_name)"
   ]
  },
  {
   "cell_type": "code",
   "execution_count": null,
   "metadata": {},
   "outputs": [],
   "source": [
    "url = \"gs://1481023-bucket/output_1.flac\""
   ]
  },
  {
   "cell_type": "code",
   "execution_count": null,
   "metadata": {},
   "outputs": [],
   "source": [
    "client = speech.SpeechClient()\n",
    "gcs_uri = url\n",
    "\n",
    "#https://cloud.google.com/speech-to-text/docs/encoding    \n",
    "#You are not required to specify the encoding and sample rate for WAV or FLAC files. \n",
    "#If omitted, Speech-to-Text automatically determines the encoding and sample rate for \n",
    "#WAV or FLAC files based on the file header. \n",
    "#If you specify an encoding or sample rate value that does not match the value in the \n",
    "#file header, then Speech-to-Text returns an error.    \n",
    "# model='video' is not required, costs more, but might lead to better transcription\n",
    "\n",
    "audio = speech.RecognitionAudio(uri=gcs_uri)\n",
    "\n",
    "config = speech.RecognitionConfig(\n",
    "    #encoding=speech.RecognitionConfig.AudioEncoding.FLAC,\n",
    "    #sample_rate_hertz=16000,\n",
    "    audio_channel_count=2,\n",
    "    language_code=\"en-US\",\n",
    "    use_enhanced=True,\n",
    "    model='video',\n",
    "    enable_word_time_offsets=True\n",
    ")\n",
    "\n",
    "operation = client.long_running_recognize(config=config, audio=audio)\n",
    "response = operation.result()\n",
    "\n",
    "result_dict = MessageToDict(response.__class__.pb(response))"
   ]
  },
  {
   "cell_type": "code",
   "execution_count": null,
   "metadata": {},
   "outputs": [],
   "source": [
    "result_dict"
   ]
  },
  {
   "cell_type": "code",
   "execution_count": null,
   "metadata": {},
   "outputs": [],
   "source": []
  }
 ],
 "metadata": {
  "kernelspec": {
   "display_name": "Python 3",
   "language": "python",
   "name": "python3"
  },
  "language_info": {
   "codemirror_mode": {
    "name": "ipython",
    "version": 3
   },
   "file_extension": ".py",
   "mimetype": "text/x-python",
   "name": "python",
   "nbconvert_exporter": "python",
   "pygments_lexer": "ipython3",
   "version": "3.6.8"
  }
 },
 "nbformat": 4,
 "nbformat_minor": 2
}
